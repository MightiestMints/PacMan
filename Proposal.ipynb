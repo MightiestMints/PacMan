{
 "cells": [
  {
   "cell_type": "markdown",
   "metadata": {},
   "source": [
    "# Project Proposal"
   ]
  },
  {
   "cell_type": "markdown",
   "metadata": {},
   "source": [
    "**Authors**:   \n",
    "  * Justin Rentie\n",
    "  * Wesley Turner\n",
    "  * Corey Craddock  \n",
    "  \n",
    "**Date**: October 30, 2017"
   ]
  },
  {
   "cell_type": "markdown",
   "metadata": {},
   "source": [
    "## Introduction"
   ]
  },
  {
   "cell_type": "markdown",
   "metadata": {},
   "source": [
    "The AI problem that my team wishes to address will be to automate a game of Pacman.  \n",
    "  \n",
    "Our plan is to implement the game using a form of reinforcement learning and relying on *examples* from [Assignment 05: Reinforcement Learning Solution to Towers of Hanoi](http://nbviewer.jupyter.org/url/www.cs.colostate.edu/~anderson/cs440/notebooks/A5%20Reinforcement%20Learning%20Solution%20to%20Towers%20of%20Hanoi.ipynb), [Lecture 14: Introduction to Reinforcement Learning](http://nbviewer.jupyter.org/url/www.cs.colostate.edu/~anderson/cs440/notebooks/14%20Introduction%20to%20Reinforcement%20Learning.ipynb), [Lecture 15: Reinforcement Learning for Two-Player Games](http://nbviewer.jupyter.org/url/www.cs.colostate.edu/~anderson/cs440/notebooks/15%20Reinforcement%20Learning%20for%20Two-Player%20Games.ipynb), and code found from this [example](http://ai.berkeley.edu/project_overview.html).  \n",
    "\n",
    "  \n",
    "We also plan on using code from [Lecture 09: Heuristic Functions](http://nbviewer.jupyter.org/url/www.cs.colostate.edu/~anderson/cs440/notebooks/09%20Heuristic%20Functions.ipynb) for training the ghosts with a simpler learning algorithm than pac-man, to keep pac-man slighly ahead.\n",
    "  \n",
    "Possibly some code from [Lecture 06: Python Implementation of Iterative Deepening] to know when pac-man cannot win given the starting state.\n",
    "  \n",
    "Some questions we have considered answering would be what size of a board, with what number of ghosts, will pac-man stand a chance at winning? If the board is 100x100 will 100 ghosts be too many for pac-man to win? Or maybe something much smaller. What is the maximum-effeciency of pac-man, and what is the effeciency of the ghosts?  \n",
    "  \n",
    "We take interest in solving pac-man because it is a generally fun game, which makes it exciting to try and solve. It also pops up on the internet as a \"rite of passage\" for many computer scientists, which could be good to add to resumes."
   ]
  },
  {
   "cell_type": "markdown",
   "metadata": {},
   "source": [
    "## Methods"
   ]
  },
  {
   "cell_type": "markdown",
   "metadata": {},
   "source": [
    "Classes/Objects:\n",
    "  * `pacMan()`: a class that will implement the learning algorithms that pac-man will use to manuever the game board, and avoid ghosts/eat dots.\n",
    "  * `ghost()`: a class that will implement the learning algorithms (which should be simpler than pac-mans) for manuevering the game board, and chasing pac-man.\n",
    "  \n",
    "Methods we will implement:  \n",
    "  * `printState(state)`: takes a 2D list as argument, will print out the current state of the gameboard\n",
    "  * `gameOver(state)`: will return true if game is over (pac-man is eaten by ghost, or pac-man has won), returns false if game is not over.\n",
    "  * `playGame(startState)`: will use methods from pac-man and ghost objects to play the game of pac-man, using reinforcment learning methods.  \n",
    "  * `trainQ()`: trian pac-man\n",
    "  * `testQ()`: test Q\n",
    "  * `aStarSearch()`: implement travel method for ghosts.\n",
    "  * `depthLimitedSearch()`: possibly implemented to know when pac-man stands no chance of winning, as to avoid searching forever for a winning state."
   ]
  },
  {
   "cell_type": "markdown",
   "metadata": {},
   "source": [
    "### Responsiblites"
   ]
  },
  {
   "cell_type": "markdown",
   "metadata": {},
   "source": [
    "Corey - `pacMan()` class.  \n",
    "Wes - `playGame()` method.  \n",
    "Justin - `ghost()` class.  \n",
    "\n",
    "*Hopefully can get together and work on methods as a group effort as well as working out the workflow of the whole program"
   ]
  },
  {
   "cell_type": "markdown",
   "metadata": {},
   "source": [
    "## Possible Results"
   ]
  },
  {
   "cell_type": "markdown",
   "metadata": {},
   "source": [
    "Our code, will successfully train pac-man to avoid the ghosts and win games given certain requirements are met.\n",
    "  \n",
    "Such as:  \n",
    "  * It is our belief that given too many ghosts, say an eighth of the playable board, will limit pac-man's ability to avoid them and pac-man will inevitably lose."
   ]
  },
  {
   "cell_type": "markdown",
   "metadata": {},
   "source": [
    "## Timeline"
   ]
  },
  {
   "cell_type": "markdown",
   "metadata": {},
   "source": [
    "  * November 8th: (1 week) complete `printState` and `gameOver`.\n",
    "  * November 15th: (2 weeks) `pacMan` and `ghost` objects will be prelimarily completed.\n",
    "  * ***FALL BREAK***\n",
    "  * November 29th: (4 weeks) `pacMan` and `ghost` fully implemented and tested.\n",
    "  * December 6th: (5 weeks) program is completed, ready to submit."
   ]
  }
 ],
 "metadata": {
  "kernelspec": {
   "display_name": "Python 3",
   "language": "python",
   "name": "python3"
  },
  "language_info": {
   "codemirror_mode": {
    "name": "ipython",
    "version": 3
   },
   "file_extension": ".py",
   "mimetype": "text/x-python",
   "name": "python",
   "nbconvert_exporter": "python",
   "pygments_lexer": "ipython3",
   "version": "3.6.1"
  }
 },
 "nbformat": 4,
 "nbformat_minor": 2
}
